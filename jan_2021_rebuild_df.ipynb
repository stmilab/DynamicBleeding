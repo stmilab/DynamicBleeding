{
 "cells": [
  {
   "cell_type": "code",
   "execution_count": 1,
   "metadata": {},
   "outputs": [],
   "source": [
    "%config Completer.use_jedi = False"
   ]
  },
  {
   "cell_type": "code",
   "execution_count": 2,
   "metadata": {},
   "outputs": [],
   "source": [
    "#import tensorflow as tf\n",
    "\n",
    "import numpy as np\n",
    "import pandas as pd\n",
    "\n",
    "import glob, os\n",
    "\n",
    "import matplotlib\n",
    "matplotlib.use('Agg')\n",
    "import matplotlib.pyplot as plt\n",
    "%matplotlib inline"
   ]
  },
  {
   "cell_type": "code",
   "execution_count": 3,
   "metadata": {},
   "outputs": [
    {
     "name": "stdout",
     "output_type": "stream",
     "text": [
      "CPU times: user 3min 3s, sys: 13.1 s, total: 3min 16s\n",
      "Wall time: 3min 43s\n"
     ]
    }
   ],
   "source": [
    "%%time\n",
    "file_name = '../FullCohort_v3_07MAR2016.csv'\n",
    "df = pd.read_csv(\n",
    "    file_name,\n",
    "    encoding='ISO-8859-1',\n",
    "    low_memory=False,\n",
    ")"
   ]
  },
  {
   "cell_type": "code",
   "execution_count": 4,
   "metadata": {},
   "outputs": [
    {
     "data": {
      "text/plain": [
       "(3400056, 462)"
      ]
     },
     "execution_count": 4,
     "metadata": {},
     "output_type": "execute_result"
    }
   ],
   "source": [
    "df.shape"
   ]
  },
  {
   "cell_type": "code",
   "execution_count": 5,
   "metadata": {},
   "outputs": [],
   "source": [
    "numeric_IDs = [\n",
    "    'HospitalID','VisitKey', 'EpisodeKey', 'ZipCode', 'SubmissionPatientKey', 'ProcedureDate', 'NCDRPatientID'\n",
    "]\n",
    "\n",
    "numeric_remove = [\n",
    "    'SubmissionKey', #'SubmissionPatientKey',\n",
    "    'DeathCause', 'DeathLab','ZipCodeNA', 'HospStatus', 'ArrivalDate',\n",
    "    'PriorPCIDate', 'PriorCABGDate', 'CABGDate', 'DCDate', 'ArrivalTime', 'CABGTime',\n",
    "    'DOB', 'TimeframeCode', 'PopulationCode', 'BenchmarkCode', \n",
    "    'STATE','MPN', 'ClientName.x', 'H_NPI', 'H_AHA', 'Address1.x',\n",
    "    'Address2.x', 'City.x', 'Zip.x', 'CPMPN', 'ICDMPN', 'ACTMPN', 'mpn2', \n",
    "    'PROV_NUM', 'MPNDUP', 'PCI', 'OnsetDate', 'ThromDate', #'ProcedureDate', \n",
    "    'SubECGDate', 'FirstDevActiDate', 'EDPresentDate', 'OnsetTime', 'ThromTime',\n",
    "    'ProcedureTime', 'SubECGTime','FirstDevActiTime',\n",
    "    'EDPresentTime', 'PrevLesionTime','HID', 'PID', 'EID', 'ClientName.y', \n",
    "    'ParticipantClassificationDesc', 'ParticipantClassOtherDesc', 'Address1.y', \n",
    "    'Address2.y', 'City.y', 'Zip.y', 'CountryCode', 'CountryName', 'ISOCode2', \n",
    "    'ISONumber','StateProvinceCode', 'StateProvinceName', 'MasterContractDate', \n",
    "    'MasterContractEffectiveDate', 'ContractDate', 'ContractEffectiveDate',\n",
    "    'PaidThroughDate', 'DateLastModified', 'iMISID', 'Hosp_ClientName', 'Hosp_ H_AHA',\n",
    "    'Hosp_ H_NPI', 'Hosp_ CITY', 'Hosp_ STATE', 'Hosp_ MPN'\n",
    "]\n",
    "\n",
    "numeric_exc = [\n",
    "    'exc1', 'exc2','exc3', 'exc4', 'exc5', 'exc6'\n",
    "]\n",
    "\n",
    "numeric_other = ['DCathOperatorKey' ,'PCIOperatorKey']\n",
    "\n",
    "numeric_insurance = [\n",
    "    'InsPrivate', 'InsMedicare' ,'InsMedicaid', 'InsMilitary','InsState', \n",
    "    'InsIHS', 'InsNonUS', 'InsNone'\n",
    "]"
   ]
  },
  {
   "cell_type": "code",
   "execution_count": 6,
   "metadata": {},
   "outputs": [],
   "source": [
    "numeric_blanks = ['CABGLocation', 'CABGIndication', 'CABGStatus']"
   ]
  },
  {
   "cell_type": "code",
   "execution_count": 7,
   "metadata": {},
   "outputs": [],
   "source": [
    "med_vars = [col for col in df.columns if 'PreOp' in col]"
   ]
  },
  {
   "cell_type": "code",
   "execution_count": 8,
   "metadata": {},
   "outputs": [],
   "source": [
    "dev_na_cols = med_vars + [\n",
    "    \"ICDEV_Drug Eluting Stent\" , \"ICDEV_Balloon\" , \"ICDEV_Bare Metal Stent\" , \"ICDEV_Cutting Balloon\" ,\n",
    "    \"ICDEV_Thrombectomy\" , \"ICDEV_Extraction Catheter\" , \"ICDEV_Embolic Protection\" , \"ICDEV_Atherectomy\" ,\n",
    "    \"ICDEV_Laser\" , \"ICDEV_Other\" , \"ICDEV_Coated Stent\" , \"ICDEV_Chronic Total Occlusion\", \"ICDEV_Brachy Therapy\" ,\n",
    "    \"ICDEV_Covered Stent\" , \"LesionCounter.y\" , \"LSDEV_Drug Eluting Stent\" , \"LSDEV_Balloon\" , \"LSDEV_Bare Metal Stent\" ,\n",
    "    \"LSDEV_Cutting Balloon\" , \"LSDEV_Thrombectomy\" , \"LSDEV_Extraction Catheter\" , \"LSDEV_Embolic Protection\" ,\n",
    "    \"LSDEV_Atherectomy\" , \"LSDEV_Laser\" , \"LSDEV_Other\" , \"LSDEV_Coated Stent\" , \"LSDEV_Chronic Total Occlusion\",\n",
    "    \"LSDEV_Brachy Therapy\" , \"LSDEV_Covered Stent\" , \"ClosID1\" , \"ClosID10\" , \"ClosID11\" , \"ClosID12\" , \"ClosID13\" ,\n",
    "    \"ClosID14\" , \"ClosID15\" , \"ClosID16\" , \"ClosID17\", \"ClosID18\" , \"ClosID19\" , \"ClosID2\" , \"ClosID20\" , \"ClosID21\" ,\n",
    "    \"ClosID22\" , \"ClosID23\" , \"ClosID24\" , \"ClosID25\" , \"ClosID26\" , \"ClosID27\" , \"ClosID28\" , \"ClosID29\" , \"ClosID3\" ,\n",
    "    \"ClosID30\", \"ClosID31\" , \"ClosID32\" , \"ClosID33\" , \"ClosID34\" , \"ClosID35\", \"ClosID36\" , \"ClosID37\" , \"ClosID38\" ,\n",
    "    \"ClosID39\" , \"ClosID4\" , \"ClosID40\" , \"ClosID41\" , \"ClosID42\" , \"ClosID43\" , \"ClosID44\", \"ClosID45\" , \"ClosID46\" ,\n",
    "    \"ClosID47\" , \"ClosID48\" , \"ClosID49\", \"ClosID5\" , \"ClosID50\" , \"ClosID51\" , \"ClosID52\" , \"ClosID53\", \"ClosID54\" ,\n",
    "    \"ClosID55\" , \"ClosID56\" , \"ClosID57\" , \"ClosID58\", \"ClosID59\" , \"ClosID6\" , \"ClosID60\" , \"ClosID61\" , \"ClosID62\",\n",
    "    \"ClosID63\" ,\"ClosID64\" , \"ClosID65\" , \"ClosID66\" , \"ClosID68\", \"ClosID69\" , \"ClosID7\" , \"ClosID70\" , \"ClosID71\" ,\n",
    "    \"ClosID72\", \"ClosID8\" , \"ClosID9\" , \"ClosID952\" , \"ClosID953\" , \"ClosID954\", \"ClosID955\"\n",
    "]"
   ]
  },
  {
   "cell_type": "code",
   "execution_count": 9,
   "metadata": {},
   "outputs": [],
   "source": [
    "categorical_drops = ['NPINumber' ,'AHANumber', 'CommunityDesc', 'ProfitTypeDesc', \n",
    "                     'HemoDynamicEquipment1','HemoDynamicEquipment2',\n",
    "                     'HemoDynamicEquipment3', 'HemoDynamicEquipment4']"
   ]
  },
  {
   "cell_type": "code",
   "execution_count": 10,
   "metadata": {},
   "outputs": [],
   "source": [
    "dq_cols = [col for col in df.columns if 'DQ' in col]"
   ]
  },
  {
   "cell_type": "code",
   "execution_count": 11,
   "metadata": {},
   "outputs": [],
   "source": [
    "df['STEMI'] = (df.CADPresentation == 6).astype(int)"
   ]
  },
  {
   "cell_type": "code",
   "execution_count": 12,
   "metadata": {},
   "outputs": [],
   "source": [
    "fillna_0_cols = numeric_insurance + numeric_blanks + dev_na_cols"
   ]
  },
  {
   "cell_type": "code",
   "execution_count": 13,
   "metadata": {},
   "outputs": [],
   "source": [
    "df[fillna_0_cols] = df[fillna_0_cols].fillna(0)"
   ]
  },
  {
   "cell_type": "code",
   "execution_count": null,
   "metadata": {},
   "outputs": [],
   "source": []
  },
  {
   "cell_type": "code",
   "execution_count": 14,
   "metadata": {},
   "outputs": [],
   "source": [
    "df[med_vars] = df[med_vars].replace({3:0, 2:0, 5:0})"
   ]
  },
  {
   "cell_type": "code",
   "execution_count": 15,
   "metadata": {},
   "outputs": [],
   "source": [
    "df_excludes = df[numeric_exc].copy()"
   ]
  },
  {
   "cell_type": "code",
   "execution_count": 16,
   "metadata": {},
   "outputs": [],
   "source": [
    "df = df.drop(\n",
    "    columns= numeric_remove + numeric_exc + numeric_other + categorical_drops + dq_cols\n",
    ")"
   ]
  },
  {
   "cell_type": "code",
   "execution_count": 17,
   "metadata": {},
   "outputs": [],
   "source": [
    "dummy_encode = [\n",
    "    'SegmentID',\n",
    "    'AdmtSource',\n",
    "    'Dominance',\n",
    "    'LocGraft',\n",
    "    'PCIDelayReason',\n",
    "    'PCIndication',\n",
    "]\n",
    "df['AdmtSource'] = df['AdmtSource'].fillna(3)"
   ]
  },
  {
   "cell_type": "code",
   "execution_count": 18,
   "metadata": {},
   "outputs": [
    {
     "name": "stdout",
     "output_type": "stream",
     "text": [
      "SegmentID\n"
     ]
    }
   ],
   "source": [
    "for col in dummy_encode:\n",
    "    try:\n",
    "        df[col] = df[col].astype('Int32')\n",
    "    except:\n",
    "        print(col)"
   ]
  },
  {
   "cell_type": "code",
   "execution_count": 19,
   "metadata": {},
   "outputs": [],
   "source": [
    "df = pd.get_dummies(df, columns=dummy_encode)"
   ]
  },
  {
   "cell_type": "code",
   "execution_count": 20,
   "metadata": {},
   "outputs": [
    {
     "data": {
      "text/html": [
       "<div>\n",
       "<style scoped>\n",
       "    .dataframe tbody tr th:only-of-type {\n",
       "        vertical-align: middle;\n",
       "    }\n",
       "\n",
       "    .dataframe tbody tr th {\n",
       "        vertical-align: top;\n",
       "    }\n",
       "\n",
       "    .dataframe thead th {\n",
       "        text-align: right;\n",
       "    }\n",
       "</style>\n",
       "<table border=\"1\" class=\"dataframe\">\n",
       "  <thead>\n",
       "    <tr style=\"text-align: right;\">\n",
       "      <th></th>\n",
       "      <th>HospitalID</th>\n",
       "      <th>VisitKey</th>\n",
       "      <th>EpisodeKey</th>\n",
       "      <th>SubmissionPatientKey</th>\n",
       "      <th>ZipCode</th>\n",
       "      <th>CABGLocation</th>\n",
       "      <th>CABGIndication</th>\n",
       "      <th>CABGStatus</th>\n",
       "      <th>DCStatus</th>\n",
       "      <th>Smoker</th>\n",
       "      <th>...</th>\n",
       "      <th>PCIDelayReason_5</th>\n",
       "      <th>PCIDelayReason_6</th>\n",
       "      <th>PCIndication_1</th>\n",
       "      <th>PCIndication_2</th>\n",
       "      <th>PCIndication_3</th>\n",
       "      <th>PCIndication_4</th>\n",
       "      <th>PCIndication_5</th>\n",
       "      <th>PCIndication_6</th>\n",
       "      <th>PCIndication_7</th>\n",
       "      <th>PCIndication_8</th>\n",
       "    </tr>\n",
       "  </thead>\n",
       "  <tbody>\n",
       "    <tr>\n",
       "      <th>0</th>\n",
       "      <td>100270</td>\n",
       "      <td>43745369.0</td>\n",
       "      <td>108993902.0</td>\n",
       "      <td>34101796.0</td>\n",
       "      <td>30601</td>\n",
       "      <td>0.0</td>\n",
       "      <td>0.0</td>\n",
       "      <td>0.0</td>\n",
       "      <td>1.0</td>\n",
       "      <td>1.0</td>\n",
       "      <td>...</td>\n",
       "      <td>0</td>\n",
       "      <td>1</td>\n",
       "      <td>1</td>\n",
       "      <td>0</td>\n",
       "      <td>0</td>\n",
       "      <td>0</td>\n",
       "      <td>0</td>\n",
       "      <td>0</td>\n",
       "      <td>0</td>\n",
       "      <td>0</td>\n",
       "    </tr>\n",
       "    <tr>\n",
       "      <th>1</th>\n",
       "      <td>100270</td>\n",
       "      <td>45509181.0</td>\n",
       "      <td>115038766.0</td>\n",
       "      <td>35374034.0</td>\n",
       "      <td>30075</td>\n",
       "      <td>1.0</td>\n",
       "      <td>4.0</td>\n",
       "      <td>2.0</td>\n",
       "      <td>1.0</td>\n",
       "      <td>0.0</td>\n",
       "      <td>...</td>\n",
       "      <td>0</td>\n",
       "      <td>1</td>\n",
       "      <td>1</td>\n",
       "      <td>0</td>\n",
       "      <td>0</td>\n",
       "      <td>0</td>\n",
       "      <td>0</td>\n",
       "      <td>0</td>\n",
       "      <td>0</td>\n",
       "      <td>0</td>\n",
       "    </tr>\n",
       "    <tr>\n",
       "      <th>2</th>\n",
       "      <td>100270</td>\n",
       "      <td>36250681.0</td>\n",
       "      <td>82732100.0</td>\n",
       "      <td>28577512.0</td>\n",
       "      <td>30677</td>\n",
       "      <td>0.0</td>\n",
       "      <td>0.0</td>\n",
       "      <td>0.0</td>\n",
       "      <td>1.0</td>\n",
       "      <td>0.0</td>\n",
       "      <td>...</td>\n",
       "      <td>0</td>\n",
       "      <td>0</td>\n",
       "      <td>0</td>\n",
       "      <td>0</td>\n",
       "      <td>0</td>\n",
       "      <td>0</td>\n",
       "      <td>0</td>\n",
       "      <td>0</td>\n",
       "      <td>0</td>\n",
       "      <td>1</td>\n",
       "    </tr>\n",
       "    <tr>\n",
       "      <th>3</th>\n",
       "      <td>100270</td>\n",
       "      <td>45509190.0</td>\n",
       "      <td>115038775.0</td>\n",
       "      <td>35375266.0</td>\n",
       "      <td>78577</td>\n",
       "      <td>0.0</td>\n",
       "      <td>0.0</td>\n",
       "      <td>0.0</td>\n",
       "      <td>1.0</td>\n",
       "      <td>0.0</td>\n",
       "      <td>...</td>\n",
       "      <td>0</td>\n",
       "      <td>1</td>\n",
       "      <td>1</td>\n",
       "      <td>0</td>\n",
       "      <td>0</td>\n",
       "      <td>0</td>\n",
       "      <td>0</td>\n",
       "      <td>0</td>\n",
       "      <td>0</td>\n",
       "      <td>0</td>\n",
       "    </tr>\n",
       "    <tr>\n",
       "      <th>4</th>\n",
       "      <td>100270</td>\n",
       "      <td>4366478.0</td>\n",
       "      <td>4242004.0</td>\n",
       "      <td>4131444.0</td>\n",
       "      <td>30606</td>\n",
       "      <td>0.0</td>\n",
       "      <td>0.0</td>\n",
       "      <td>0.0</td>\n",
       "      <td>1.0</td>\n",
       "      <td>1.0</td>\n",
       "      <td>...</td>\n",
       "      <td>0</td>\n",
       "      <td>0</td>\n",
       "      <td>0</td>\n",
       "      <td>0</td>\n",
       "      <td>0</td>\n",
       "      <td>0</td>\n",
       "      <td>0</td>\n",
       "      <td>0</td>\n",
       "      <td>0</td>\n",
       "      <td>1</td>\n",
       "    </tr>\n",
       "  </tbody>\n",
       "</table>\n",
       "<p>5 rows × 426 columns</p>\n",
       "</div>"
      ],
      "text/plain": [
       "   HospitalID    VisitKey   EpisodeKey  SubmissionPatientKey ZipCode  \\\n",
       "0      100270  43745369.0  108993902.0            34101796.0   30601   \n",
       "1      100270  45509181.0  115038766.0            35374034.0   30075   \n",
       "2      100270  36250681.0   82732100.0            28577512.0   30677   \n",
       "3      100270  45509190.0  115038775.0            35375266.0   78577   \n",
       "4      100270   4366478.0    4242004.0             4131444.0   30606   \n",
       "\n",
       "   CABGLocation  CABGIndication  CABGStatus  DCStatus  Smoker  ...  \\\n",
       "0           0.0             0.0         0.0       1.0     1.0  ...   \n",
       "1           1.0             4.0         2.0       1.0     0.0  ...   \n",
       "2           0.0             0.0         0.0       1.0     0.0  ...   \n",
       "3           0.0             0.0         0.0       1.0     0.0  ...   \n",
       "4           0.0             0.0         0.0       1.0     1.0  ...   \n",
       "\n",
       "   PCIDelayReason_5  PCIDelayReason_6  PCIndication_1  PCIndication_2  \\\n",
       "0                 0                 1               1               0   \n",
       "1                 0                 1               1               0   \n",
       "2                 0                 0               0               0   \n",
       "3                 0                 1               1               0   \n",
       "4                 0                 0               0               0   \n",
       "\n",
       "   PCIndication_3  PCIndication_4  PCIndication_5  PCIndication_6  \\\n",
       "0               0               0               0               0   \n",
       "1               0               0               0               0   \n",
       "2               0               0               0               0   \n",
       "3               0               0               0               0   \n",
       "4               0               0               0               0   \n",
       "\n",
       "   PCIndication_7  PCIndication_8  \n",
       "0               0               0  \n",
       "1               0               0  \n",
       "2               0               1  \n",
       "3               0               0  \n",
       "4               0               1  \n",
       "\n",
       "[5 rows x 426 columns]"
      ]
     },
     "execution_count": 20,
     "metadata": {},
     "output_type": "execute_result"
    }
   ],
   "source": [
    "df.head()"
   ]
  },
  {
   "cell_type": "code",
   "execution_count": 21,
   "metadata": {},
   "outputs": [],
   "source": [
    "df.loc[df.CTO == -np.inf, 'CTO'] = np.nan\n",
    "\n",
    "df.loc[df.PreTIMI == np.inf, 'PreTIMI'] = np.nan\n",
    "\n",
    "df.loc[df.NEWSEQ == -np.inf, 'NEWSEQ'] = np.nan"
   ]
  },
  {
   "cell_type": "code",
   "execution_count": 22,
   "metadata": {},
   "outputs": [
    {
     "data": {
      "text/plain": [
       "NaN    2144319\n",
       "3.0     629824\n",
       "4.0     476242\n",
       "2.0      79363\n",
       "1.0      65344\n",
       "5.0       4964\n",
       "Name: DiabetesControl, dtype: int64"
      ]
     },
     "execution_count": 22,
     "metadata": {},
     "output_type": "execute_result"
    }
   ],
   "source": [
    "df['DiabetesControl'].value_counts(dropna=False)"
   ]
  },
  {
   "cell_type": "code",
   "execution_count": null,
   "metadata": {},
   "outputs": [],
   "source": []
  },
  {
   "cell_type": "code",
   "execution_count": 23,
   "metadata": {},
   "outputs": [],
   "source": [
    "df.loc[(df.Diabetes == 0) & (df.DiabetesControl.isna()), 'DiabetesControl'] = 1"
   ]
  },
  {
   "cell_type": "code",
   "execution_count": 24,
   "metadata": {},
   "outputs": [],
   "source": [
    "df['DiabetesControl'] = df['DiabetesControl'].fillna(5)"
   ]
  },
  {
   "cell_type": "code",
   "execution_count": 25,
   "metadata": {},
   "outputs": [
    {
     "data": {
      "text/plain": [
       "1.0    2206273\n",
       "3.0     629824\n",
       "4.0     476242\n",
       "2.0      79363\n",
       "5.0       8354\n",
       "Name: DiabetesControl, dtype: int64"
      ]
     },
     "execution_count": 25,
     "metadata": {},
     "output_type": "execute_result"
    }
   ],
   "source": [
    "df['DiabetesControl'].value_counts(dropna=False)"
   ]
  },
  {
   "cell_type": "code",
   "execution_count": 26,
   "metadata": {},
   "outputs": [],
   "source": [
    "df['DiabetesControl'].replace({\n",
    "    1:'None',\n",
    "    2:'Diet',\n",
    "    3:'Oral',\n",
    "    4:'Insulin',\n",
    "    5:'OtherOrMissing'\n",
    "}, inplace=True)"
   ]
  },
  {
   "cell_type": "code",
   "execution_count": 27,
   "metadata": {},
   "outputs": [
    {
     "data": {
      "text/plain": [
       "None              2206273\n",
       "Oral               629824\n",
       "Insulin            476242\n",
       "Diet                79363\n",
       "OtherOrMissing       8354\n",
       "Name: DiabetesControl, dtype: int64"
      ]
     },
     "execution_count": 27,
     "metadata": {},
     "output_type": "execute_result"
    }
   ],
   "source": [
    "df['DiabetesControl'].value_counts(dropna=False)"
   ]
  },
  {
   "cell_type": "code",
   "execution_count": null,
   "metadata": {},
   "outputs": [],
   "source": []
  },
  {
   "cell_type": "code",
   "execution_count": 28,
   "metadata": {},
   "outputs": [],
   "source": [
    "df = pd.get_dummies(df, columns=['DiabetesControl'])"
   ]
  },
  {
   "cell_type": "code",
   "execution_count": null,
   "metadata": {},
   "outputs": [],
   "source": []
  },
  {
   "cell_type": "markdown",
   "metadata": {},
   "source": [
    "Create Rao Variables"
   ]
  },
  {
   "cell_type": "code",
   "execution_count": 29,
   "metadata": {},
   "outputs": [],
   "source": [
    "df['AGEGT70'] = (df.Age > 70).astype(int)\n",
    "df['AGELE70'] = (df.Age <= 70).astype(int)\n",
    "\n",
    "df['BMI'] = df.Weight * 10000 / (df.Height * df.Height) #Factor of 10000 for conversion from cm^2 to m^2\n",
    "df.loc[(df.BMI < 5) | (df.BMI > 100), 'BMI'] = np.nan\n",
    "\n",
    "df['BMILE30'] = (df.BMI <= 30).astype(int)\n",
    "\n",
    "dm_vars = [\n",
    "    'DiabetesControl_Insulin',\n",
    "    'DiabetesControl_Diet',\n",
    "    'DiabetesControl_Oral',\n",
    "    'DiabetesControl_OtherOrMissing'\n",
    "]\n",
    "\n",
    "df['NEWDIAB'] = (df.Diabetes == 1).astype(int) * (df[dm_vars].any(axis=1).astype(int) + df[dm_vars[0]])\n",
    "\n",
    "#translated from\n",
    "#NEWDIAB <- rep(0, dim(ncdr.data.full)[1])\n",
    "#NEWDIAB[which((final.complete.input$Diabetes == 1) & (final.complete.input$DiabetesControl > 1))] <- 1\n",
    "#NEWDIAB[which((final.complete.input$Diabetes == 1) & (final.complete.input$DiabetesControl == 4))] <- 2\n",
    "#\n",
    "#ncdr.data.full$NEWDIAB <- NEWDIAB\n",
    "#\n",
    "#NEWDIAB1 <- as.numeric(NEWDIAB == 1)\n",
    "#NEWDIAB2 <- as.numeric(NEWDIAB == 2)\n",
    "#\n",
    "#ncdr.data.full$NEWDIAB1 <- NEWDIAB1\n",
    "#ncdr.data.full$NEWDIAB2 <- NEWDIAB2\n",
    "\n",
    "df['NEWDIAB1'] = (df['NEWDIAB'] == 1).astype(int)\n",
    "df['NEWDIAB2'] = (df['NEWDIAB'] == 2).astype(int)"
   ]
  },
  {
   "cell_type": "code",
   "execution_count": 30,
   "metadata": {},
   "outputs": [],
   "source": [
    "df['HDEF'] = df.PrePCILVEF\n",
    "\n",
    "df.loc[df['HDEF'] > 60, 'HDEF'] = 60\n",
    "\n",
    "df['HDEF'] = df['HDEF'] / 5"
   ]
  },
  {
   "cell_type": "code",
   "execution_count": 31,
   "metadata": {},
   "outputs": [],
   "source": [
    "df['FEMALE'] = (df['Sex']==2).astype(int)\n",
    "\n",
    "df['GENDMULT'] = 1 - 0.258*df['FEMALE']\n",
    "\n",
    "df['RACEMULT'] = 1 + 0.21 * df['RaceBlack']\n",
    "\n",
    "#GFR[idx] <- (186 * (ncdr.data.full$PreProcCreat[idx] ^ (-1.154))) * (ncdr.data.full$Age[idx] ^ (-0.203)) * GENDMULT[idx] * RACEMULT[idx]\n",
    "#\n",
    "#RENFAIL <- as.numeric((GFR < 30) | (ncdr.data.full$CurrentDialysis == 1))\n",
    "#\n",
    "#ncdr.data.full$RENFAIL <- RENFAIL\n",
    "\n",
    "\n",
    "GFR = (186 * (df.PreProcCreat.pow(-1.154))) * (df.Age.pow(-0.203)) * df.GENDMULT * df.RACEMULT\n",
    "\n",
    "df['RENFAIL'] = ((GFR < 30) | (df.CurrentDialysis == 1)).astype(int)"
   ]
  },
  {
   "cell_type": "raw",
   "metadata": {},
   "source": [
    "df['CKD'] = 3\n",
    "df.loc[(df.CurrentDialysis == 1) | (GFR < 30), 'CKD'] = 4\n",
    "df.loc[(GFR >= 30), 'CKD'] = 2\n",
    "df.loc[(GFR >= 45), 'CKD'] = 1\n",
    "df.loc[(GFR >= 60), 'CKD'] = 0"
   ]
  },
  {
   "cell_type": "code",
   "execution_count": 32,
   "metadata": {},
   "outputs": [],
   "source": [
    "df['CKD'] = 3\n",
    "df.loc[(GFR >= 30), 'CKD'] = 2\n",
    "df.loc[(GFR >= 45), 'CKD'] = 1\n",
    "df.loc[(GFR >= 60), 'CKD'] = 0\n",
    "df.loc[(df.CurrentDialysis == 1) | (GFR < 30), 'CKD'] = 4"
   ]
  },
  {
   "cell_type": "raw",
   "metadata": {},
   "source": [
    "df['CKD'] = np.nan\n",
    "df.loc[(GFR < 15), 'CKD'] = 5\n",
    "df.loc[(GFR >= 15), 'CKD'] = 4\n",
    "df.loc[(GFR >= 30), 'CKD'] = 3\n",
    "df.loc[(GFR >= 60), 'CKD'] = 2\n",
    "df.loc[(GFR >= 90), 'CKD'] = 1\n",
    "df.loc[df.CurrentDialysis == 1, 'CKD'] = 5\n",
    "df['CKD'] = df['CKD'].replace({5:4})"
   ]
  },
  {
   "cell_type": "code",
   "execution_count": 33,
   "metadata": {},
   "outputs": [
    {
     "data": {
      "text/plain": [
       "0    2357236\n",
       "1     498918\n",
       "2     211942\n",
       "3     189103\n",
       "4     142857\n",
       "Name: CKD, dtype: int64"
      ]
     },
     "execution_count": 33,
     "metadata": {},
     "output_type": "execute_result"
    }
   ],
   "source": [
    "df.CKD.value_counts()"
   ]
  },
  {
   "cell_type": "code",
   "execution_count": 34,
   "metadata": {},
   "outputs": [],
   "source": [
    "df['CKD1'] = (df.CKD == 1).astype(int)\n",
    "df['CKD2'] = (df.CKD == 2).astype(int)\n",
    "df['CKD3'] = (df.CKD == 3).astype(int)\n",
    "df['CKD4'] = (df.CKD == 4).astype(int)"
   ]
  },
  {
   "cell_type": "code",
   "execution_count": null,
   "metadata": {},
   "outputs": [],
   "source": []
  },
  {
   "cell_type": "code",
   "execution_count": 35,
   "metadata": {},
   "outputs": [],
   "source": [
    "df['GFR'] = np.minimum(GFR, 90)/5"
   ]
  },
  {
   "cell_type": "code",
   "execution_count": 36,
   "metadata": {},
   "outputs": [],
   "source": [
    "df['LYTICS'] = ((df.CADPresentation == 6) & (df.ThromTherapy == 1)).astype(int)"
   ]
  },
  {
   "cell_type": "code",
   "execution_count": 37,
   "metadata": {},
   "outputs": [],
   "source": [
    "df['CARSHOCK'] = ((df.PriorCardioShock == 1) & (df.PCICardioShock == 1)).astype(int)"
   ]
  },
  {
   "cell_type": "code",
   "execution_count": 38,
   "metadata": {},
   "outputs": [],
   "source": [
    "df['DCARSHOCK'] = 0\n",
    "df.loc[df.PriorCardioShock == 1, 'DCARSHOCK'] = 1 + (df.PCICardioShock == 0).astype(int)\n",
    "df.loc[df.PriorCardioShock == 0, 'DCARSHOCK'] = 3 + (df.PCICardioShock == 0).astype(int)"
   ]
  },
  {
   "cell_type": "code",
   "execution_count": null,
   "metadata": {},
   "outputs": [],
   "source": []
  },
  {
   "cell_type": "code",
   "execution_count": 39,
   "metadata": {},
   "outputs": [],
   "source": [
    "SHOCKPCIS = pd.Series(6, index=df.index)\n",
    "SHOCKPCIS.loc[df.PCIStatus == 2] = 5\n",
    "SHOCKPCIS.loc[df.PCIStatus == 3] = 4\n",
    "SHOCKPCIS.loc[(df.DCARSHOCK == 2)|(df.DCARSHOCK == 3)] = 3\n",
    "SHOCKPCIS.loc[(df.DCARSHOCK == 1)|(df.PCIStatus == 4)] = 2\n",
    "SHOCKPCIS.loc[(df.DCARSHOCK == 1)&(df.PCIStatus == 4)] = 1"
   ]
  },
  {
   "cell_type": "code",
   "execution_count": 40,
   "metadata": {},
   "outputs": [],
   "source": [
    "df['SHOCKPCIS'] = SHOCKPCIS.copy()\n",
    "df['SHOCKPCIS1'] = (SHOCKPCIS == 1).astype(int)\n",
    "df['SHOCKPCIS2'] = (SHOCKPCIS == 2).astype(int)\n",
    "df['SHOCKPCIS3'] = (SHOCKPCIS == 3).astype(int)\n",
    "df['SHOCKPCIS4'] = (SHOCKPCIS == 4).astype(int)\n",
    "df['SHOCKPCIS5'] = (SHOCKPCIS == 5).astype(int)\n",
    "df['SHOCKPCIS6'] = (SHOCKPCIS == 6).astype(int)"
   ]
  },
  {
   "cell_type": "code",
   "execution_count": 41,
   "metadata": {},
   "outputs": [],
   "source": [
    "df['LESSCAI23'] = (df.LESSCAI > 1).astype(int)\n",
    "#Note- original has LESSCAI4, but no pts in this data have == 4"
   ]
  },
  {
   "cell_type": "code",
   "execution_count": 42,
   "metadata": {},
   "outputs": [
    {
     "data": {
      "text/plain": [
       "2    1384329\n",
       "1    1358049\n",
       "3     657678\n",
       "Name: LESSCAI, dtype: int64"
      ]
     },
     "execution_count": 42,
     "metadata": {},
     "output_type": "execute_result"
    }
   ],
   "source": [
    "df.LESSCAI.value_counts()"
   ]
  },
  {
   "cell_type": "code",
   "execution_count": 43,
   "metadata": {},
   "outputs": [],
   "source": [
    "df['NEWSEQ2'] = (df.NEWSEQ == 2).astype(int)\n",
    "df['NEWSEQ3'] = (df.NEWSEQ == 3).astype(int)"
   ]
  },
  {
   "cell_type": "code",
   "execution_count": 44,
   "metadata": {},
   "outputs": [],
   "source": [
    "df['NYHA123'] = ((df.Prior2weekNYHA == 1) | (df.Prior2weekNYHA == 2) | (df.Prior2weekNYHA == 3)).astype(int)\n",
    "df['NYHA4'] = (df.Prior2weekNYHA == 4).astype(int)"
   ]
  },
  {
   "cell_type": "code",
   "execution_count": 45,
   "metadata": {},
   "outputs": [],
   "source": [
    "df['PRETIMINO'] = (df.PreTIMI  == 0).astype(int)"
   ]
  },
  {
   "cell_type": "code",
   "execution_count": 46,
   "metadata": {},
   "outputs": [],
   "source": [
    "NVD = pd.Series(0, index=df.index)\n",
    "NVD.loc[df.LMStenosis <= 50] = (\n",
    "     ((df.RCAStenosis > 70).astype(int) + \n",
    "     ((df.ProxLADStenosis > 70) | (df.MidDistalLADStenosis > 70)).astype(int) +\n",
    "     ((df.CIRCStenosis > 70) | (df.RamusStenosis > 70))).astype(int)\n",
    ")[df.LMStenosis <= 50]\n",
    "NVD.loc[(df.LMStenosis > 50) &  ((df.Dominance_1 == 1) | (df.RCAStenosis > 70))] = 3\n",
    "NVD.loc[(df.LMStenosis > 50) & ~((df.Dominance_1 == 1) | (df.RCAStenosis > 70))] = 2\n",
    "\n",
    "df['NVD'] = NVD.copy()\n",
    "df['NVD23'] = (NVD > 1).astype(int)"
   ]
  },
  {
   "cell_type": "code",
   "execution_count": 47,
   "metadata": {},
   "outputs": [],
   "source": [
    "df['PREHGBLE13'] = (df.PreProcHgb <= 13).astype(int)\n",
    "df['PREHGBGT13'] = (df.PreProcHgb >  13).astype(int)"
   ]
  },
  {
   "cell_type": "code",
   "execution_count": null,
   "metadata": {},
   "outputs": [],
   "source": []
  },
  {
   "cell_type": "code",
   "execution_count": 48,
   "metadata": {},
   "outputs": [],
   "source": [
    "file_name = '../v4closm.sas7bdat.csv'\n",
    "data_sas = pd.read_csv(\n",
    "    file_name,\n",
    "    encoding='ISO-8859-1',\n",
    "    low_memory=False,\n",
    ")\n",
    "\n",
    "data_sas.VisitKey = data_sas.VisitKey.astype(int)"
   ]
  },
  {
   "cell_type": "code",
   "execution_count": 49,
   "metadata": {},
   "outputs": [],
   "source": [
    "closure_dict = data_sas.drop_duplicates(subset='ClosureDevID')[['ClosureDevID', 'DeviceTypeName']].reset_index(drop=True)\n",
    "\n",
    "closure_dict = closure_dict.set_index('ClosureDevID').to_dict()['DeviceTypeName']"
   ]
  },
  {
   "cell_type": "code",
   "execution_count": null,
   "metadata": {},
   "outputs": [],
   "source": []
  },
  {
   "cell_type": "code",
   "execution_count": 50,
   "metadata": {},
   "outputs": [],
   "source": [
    "closure_ids = [col for col in df.columns if 'ClosID' in col]"
   ]
  },
  {
   "cell_type": "code",
   "execution_count": null,
   "metadata": {},
   "outputs": [],
   "source": []
  },
  {
   "cell_type": "code",
   "execution_count": 51,
   "metadata": {},
   "outputs": [],
   "source": [
    "invert_dict = {}\n",
    "for k in set(closure_dict.values()):\n",
    "    invert_dict[k] = []\n",
    "for k,v in closure_dict.items():\n",
    "    invert_dict[v].append(f'ClosID{k}')"
   ]
  },
  {
   "cell_type": "code",
   "execution_count": 52,
   "metadata": {},
   "outputs": [
    {
     "data": {
      "text/plain": [
       "dict_keys(['Other', 'Manual com', 'Suture', 'Staple', 'Sealant', 'Patch', 'Mechanical'])"
      ]
     },
     "execution_count": 52,
     "metadata": {},
     "output_type": "execute_result"
    }
   ],
   "source": [
    "invert_dict.keys()"
   ]
  },
  {
   "cell_type": "code",
   "execution_count": 53,
   "metadata": {},
   "outputs": [],
   "source": [
    "closure_df = pd.DataFrame(index=df.index, dtype=int)\n",
    "for col in invert_dict.keys():\n",
    "    closure_df['closure_' + col.replace(' ', '_')] = df[invert_dict[col]].astype(int).sum(axis=1)"
   ]
  },
  {
   "cell_type": "code",
   "execution_count": 54,
   "metadata": {},
   "outputs": [
    {
     "name": "stdout",
     "output_type": "stream",
     "text": [
      "closure_Other\n",
      "closure_Manual_com\n",
      "closure_Suture\n",
      "closure_Staple\n",
      "closure_Sealant\n",
      "closure_Patch\n",
      "closure_Mechanical\n"
     ]
    }
   ],
   "source": [
    "for col in closure_df.columns:\n",
    "    print(col)"
   ]
  },
  {
   "cell_type": "code",
   "execution_count": 55,
   "metadata": {},
   "outputs": [],
   "source": [
    "closure_df['total_count_closure'] = closure_df.sum(axis=1)\n",
    "closure_df['closure_None'] = (closure_df['total_count_closure'] == 0).astype(int)"
   ]
  },
  {
   "cell_type": "code",
   "execution_count": 56,
   "metadata": {},
   "outputs": [
    {
     "data": {
      "text/plain": [
       "1     2932590\n",
       "2      242746\n",
       "0      199046\n",
       "3       22539\n",
       "4        2544\n",
       "5         420\n",
       "6         105\n",
       "7          43\n",
       "8          17\n",
       "9           3\n",
       "12          1\n",
       "11          1\n",
       "10          1\n",
       "Name: total_count_closure, dtype: int64"
      ]
     },
     "execution_count": 56,
     "metadata": {},
     "output_type": "execute_result"
    }
   ],
   "source": [
    "closure_df.total_count_closure.value_counts()"
   ]
  },
  {
   "cell_type": "code",
   "execution_count": 57,
   "metadata": {},
   "outputs": [],
   "source": [
    "df = pd.concat([df.drop(columns=closure_ids), closure_df], axis=1)"
   ]
  },
  {
   "cell_type": "code",
   "execution_count": 58,
   "metadata": {},
   "outputs": [],
   "source": [
    "df.ProcedureDate = pd.to_timedelta(df.ProcedureDate, unit='D') + pd.Timestamp('1960-1-1')"
   ]
  },
  {
   "cell_type": "code",
   "execution_count": 59,
   "metadata": {},
   "outputs": [
    {
     "data": {
      "text/plain": [
       "3046"
      ]
     },
     "execution_count": 59,
     "metadata": {},
     "output_type": "execute_result"
    }
   ],
   "source": [
    "(df.ProcedureDate < pd.Timestamp('2009-7-1')).sum()"
   ]
  },
  {
   "cell_type": "code",
   "execution_count": 60,
   "metadata": {},
   "outputs": [
    {
     "data": {
      "text/plain": [
       "1"
      ]
     },
     "execution_count": 60,
     "metadata": {},
     "output_type": "execute_result"
    }
   ],
   "source": [
    "(df.ProcedureDate < pd.Timestamp('2009-1-8')).sum()"
   ]
  },
  {
   "cell_type": "code",
   "execution_count": 61,
   "metadata": {},
   "outputs": [],
   "source": [
    "df_multiple_closures = df[\n",
    "    (df.total_count_closure >= 2) |\n",
    "    (df.ProcedureDate < pd.Timestamp('2009-7-1')) |\n",
    "    (df.ClosureMethodNA==1)\n",
    "].copy()\n",
    "df_single_closure = df[\n",
    "    (df.total_count_closure < 2) &\n",
    "    (df.ProcedureDate >= pd.Timestamp('2009-7-1')) &\n",
    "    (df.ClosureMethodNA != 1)\n",
    "].copy()"
   ]
  },
  {
   "cell_type": "code",
   "execution_count": 62,
   "metadata": {},
   "outputs": [
    {
     "data": {
      "text/plain": [
       "((454598, 402), (2945458, 402))"
      ]
     },
     "execution_count": 62,
     "metadata": {},
     "output_type": "execute_result"
    }
   ],
   "source": [
    "df_multiple_closures.shape, df_single_closure.shape\n"
   ]
  },
  {
   "cell_type": "markdown",
   "metadata": {},
   "source": [
    "Remove CABG Patients"
   ]
  },
  {
   "cell_type": "code",
   "execution_count": 70,
   "metadata": {},
   "outputs": [],
   "source": [
    "cabg_cols = [col for col in df_single_closure.columns if 'CABG' in col and 'Prior' not in col]\n",
    "\n",
    "df_single_closure = df_single_closure[df_single_closure.CABG!=1].drop(columns=cabg_cols)"
   ]
  },
  {
   "cell_type": "markdown",
   "metadata": {},
   "source": [
    "Remove Other Major Surgery"
   ]
  },
  {
   "cell_type": "code",
   "execution_count": 71,
   "metadata": {},
   "outputs": [],
   "source": [
    "df_single_closure = df_single_closure[df_single_closure.OtherMajorSurgery!=1].drop(columns='OtherMajorSurgery')"
   ]
  },
  {
   "cell_type": "code",
   "execution_count": 72,
   "metadata": {},
   "outputs": [
    {
     "data": {
      "text/plain": [
       "0      14924\n",
       "1    2864167\n",
       "Name: total_count_closure, dtype: int64"
      ]
     },
     "execution_count": 72,
     "metadata": {},
     "output_type": "execute_result"
    }
   ],
   "source": [
    "df_single_closure.total_count_closure.value_counts(dropna=False, sort=False)"
   ]
  },
  {
   "cell_type": "code",
   "execution_count": 73,
   "metadata": {},
   "outputs": [
    {
     "data": {
      "text/plain": [
       "(2879091, 397)"
      ]
     },
     "execution_count": 73,
     "metadata": {},
     "output_type": "execute_result"
    }
   ],
   "source": [
    "df_single_closure.shape"
   ]
  },
  {
   "cell_type": "code",
   "execution_count": 78,
   "metadata": {},
   "outputs": [
    {
     "data": {
      "text/plain": [
       "1.0    2394173\n",
       "3.0     474635\n",
       "2.0       7950\n",
       "4.0       1333\n",
       "NaN       1000\n",
       "Name: AcessSite, dtype: int64"
      ]
     },
     "execution_count": 78,
     "metadata": {},
     "output_type": "execute_result"
    }
   ],
   "source": [
    "df_single_closure.AcessSite.value_counts(dropna=False)"
   ]
  },
  {
   "cell_type": "code",
   "execution_count": 79,
   "metadata": {},
   "outputs": [
    {
     "data": {
      "text/plain": [
       "(2868808, 397)"
      ]
     },
     "execution_count": 79,
     "metadata": {},
     "output_type": "execute_result"
    }
   ],
   "source": [
    "df_final = df_single_closure[\n",
    "    (df_single_closure.AcessSite == 1) |\n",
    "    (df_single_closure.AcessSite == 3)\n",
    "].copy()\n",
    "df_final.shape"
   ]
  },
  {
   "cell_type": "code",
   "execution_count": 81,
   "metadata": {},
   "outputs": [
    {
     "data": {
      "text/plain": [
       "1480091"
      ]
     },
     "execution_count": 81,
     "metadata": {},
     "output_type": "execute_result"
    }
   ],
   "source": [
    "df_final.NCDRPatientID.nunique()"
   ]
  },
  {
   "cell_type": "code",
   "execution_count": 83,
   "metadata": {},
   "outputs": [
    {
     "data": {
      "text/plain": [
       "1538"
      ]
     },
     "execution_count": 83,
     "metadata": {},
     "output_type": "execute_result"
    }
   ],
   "source": [
    "df_final.HospitalID.nunique()"
   ]
  },
  {
   "cell_type": "code",
   "execution_count": 87,
   "metadata": {},
   "outputs": [
    {
     "data": {
      "text/plain": [
       "1.0    2394173\n",
       "3.0     474635\n",
       "Name: AcessSite, dtype: int64"
      ]
     },
     "execution_count": 87,
     "metadata": {},
     "output_type": "execute_result"
    }
   ],
   "source": [
    "df_final.AcessSite.value_counts(dropna=False)"
   ]
  },
  {
   "cell_type": "code",
   "execution_count": 88,
   "metadata": {},
   "outputs": [
    {
     "name": "stdout",
     "output_type": "stream",
     "text": [
      "CPU times: user 1.69 s, sys: 936 ms, total: 2.62 s\n",
      "Wall time: 2.62 s\n"
     ]
    }
   ],
   "source": [
    "%%time\n",
    "df_final['Femoral'] = (df_final.AcessSite == 1).astype(int)\n",
    "df_final['Radial'] = (df_final.AcessSite == 3).astype(int)\n",
    "\n",
    "df_final.drop(columns=['AcessSite', 'ClosureMethodNA', 'ClosureCounter'], inplace=True)"
   ]
  },
  {
   "cell_type": "code",
   "execution_count": 89,
   "metadata": {},
   "outputs": [
    {
     "data": {
      "text/plain": [
       "['closure_Other',\n",
       " 'closure_Manual_com',\n",
       " 'closure_Suture',\n",
       " 'closure_Staple',\n",
       " 'closure_Sealant',\n",
       " 'closure_Patch',\n",
       " 'closure_Mechanical',\n",
       " 'total_count_closure',\n",
       " 'closure_None',\n",
       " 'Femoral',\n",
       " 'Radial']"
      ]
     },
     "execution_count": 89,
     "metadata": {},
     "output_type": "execute_result"
    }
   ],
   "source": [
    "[col for col in df_final.columns if \n",
    " 'clos' in col.lower() or\n",
    " 'femor' in col.lower() or\n",
    " 'radia' in col.lower()\n",
    "]"
   ]
  },
  {
   "cell_type": "code",
   "execution_count": 90,
   "metadata": {},
   "outputs": [
    {
     "name": "stdout",
     "output_type": "stream",
     "text": [
      "0    0.966949\n",
      "1    0.033051\n",
      "Name: closure_Other, dtype: float64\n",
      "\n",
      "0    0.663408\n",
      "1    0.336592\n",
      "Name: closure_Manual_com, dtype: float64\n",
      "\n",
      "0    0.907804\n",
      "1    0.092196\n",
      "Name: closure_Suture, dtype: float64\n",
      "\n",
      "0    0.999936\n",
      "1    0.000064\n",
      "Name: closure_Staple, dtype: float64\n",
      "\n",
      "0    0.680573\n",
      "1    0.319427\n",
      "Name: closure_Sealant, dtype: float64\n",
      "\n",
      "0    0.96525\n",
      "1    0.03475\n",
      "Name: closure_Patch, dtype: float64\n",
      "\n",
      "0    0.821191\n",
      "1    0.178809\n",
      "Name: closure_Mechanical, dtype: float64\n",
      "\n",
      "1    0.994889\n",
      "0    0.005111\n",
      "Name: total_count_closure, dtype: float64\n",
      "\n",
      "0    0.994889\n",
      "1    0.005111\n",
      "Name: closure_None, dtype: float64\n",
      "\n",
      "1    0.834553\n",
      "0    0.165447\n",
      "Name: Femoral, dtype: float64\n",
      "\n",
      "0    0.834553\n",
      "1    0.165447\n",
      "Name: Radial, dtype: float64\n",
      "\n"
     ]
    }
   ],
   "source": [
    "for col in [col for col in df_final.columns if \n",
    " 'clos' in col.lower() or\n",
    " 'femor' in col.lower() or\n",
    " 'radia' in col.lower()\n",
    "]:\n",
    "    print(df_final[col].value_counts(dropna=False)/df_final.shape[0])\n",
    "    print()"
   ]
  },
  {
   "cell_type": "code",
   "execution_count": 91,
   "metadata": {},
   "outputs": [],
   "source": [
    "df_final.columns = [c.replace(' ', '_') for c in df_final.columns]"
   ]
  },
  {
   "cell_type": "code",
   "execution_count": 92,
   "metadata": {},
   "outputs": [],
   "source": [
    "#2 = Unknown\n",
    "df_final['CulpritArtery'] = df_final['CulpritArtery'].replace({2:np.nan})"
   ]
  },
  {
   "cell_type": "code",
   "execution_count": 93,
   "metadata": {},
   "outputs": [],
   "source": [
    "#3 = Unknown\n",
    "df_final['StentType'] = df_final['StentType'].replace({3:np.nan})"
   ]
  },
  {
   "cell_type": "code",
   "execution_count": 94,
   "metadata": {},
   "outputs": [],
   "source": [
    "presentation_vars = list(pd.read_csv('presentation.txt', header=None)[0])\n",
    "cath_lab_vars = list(pd.read_csv('cath_lab.txt', header=None)[0])\n",
    "med_vars = list(pd.read_csv('meds.txt', header=None)[0])\n",
    "pci_vars = list(pd.read_csv('pci.txt', header=None)[0])"
   ]
  },
  {
   "cell_type": "code",
   "execution_count": 95,
   "metadata": {},
   "outputs": [
    {
     "data": {
      "text/plain": [
       "0    2750481\n",
       "1     118327\n",
       "Name: Bleed, dtype: int64"
      ]
     },
     "execution_count": 95,
     "metadata": {},
     "output_type": "execute_result"
    }
   ],
   "source": [
    "df_final.Bleed.value_counts(dropna=False)"
   ]
  },
  {
   "cell_type": "code",
   "execution_count": 96,
   "metadata": {},
   "outputs": [],
   "source": [
    "access_vars = [col for col in df_final.columns if \n",
    "               'femor' in col.lower() or\n",
    "               'radia' in col.lower()]\n",
    "closure_vars = [col for col in df_final.columns if 'clos' in col.lower()]\n",
    "\n",
    "outcome_var = ['Bleed']"
   ]
  },
  {
   "cell_type": "code",
   "execution_count": 97,
   "metadata": {},
   "outputs": [],
   "source": [
    "all_vars = outcome_var + presentation_vars + access_vars + cath_lab_vars + med_vars + pci_vars + closure_vars"
   ]
  },
  {
   "cell_type": "code",
   "execution_count": 98,
   "metadata": {},
   "outputs": [
    {
     "data": {
      "text/plain": [
       "0"
      ]
     },
     "execution_count": 98,
     "metadata": {},
     "output_type": "execute_result"
    }
   ],
   "source": [
    "len(all_vars) - len(set(all_vars))"
   ]
  },
  {
   "cell_type": "code",
   "execution_count": 99,
   "metadata": {},
   "outputs": [],
   "source": [
    "for col in all_vars:\n",
    "    if col not in df_final.columns:\n",
    "        print(col)"
   ]
  },
  {
   "cell_type": "raw",
   "metadata": {},
   "source": [
    "for col in df_final.columns:\n",
    "    if col not in all_vars:\n",
    "        print(col)"
   ]
  },
  {
   "cell_type": "raw",
   "metadata": {},
   "source": [
    "df_single_closure.drop(columns=[col for col in numeric_IDs if col != 'ProcedureDate'], inplace=True)"
   ]
  },
  {
   "cell_type": "code",
   "execution_count": 101,
   "metadata": {},
   "outputs": [],
   "source": [
    "df_train = df_final[df_final.ProcedureDate < pd.Timestamp('2014-1-1')]\n",
    "df_test = df_final[df_final.ProcedureDate >= pd.Timestamp('2014-1-1')]"
   ]
  },
  {
   "cell_type": "code",
   "execution_count": 102,
   "metadata": {},
   "outputs": [
    {
     "data": {
      "text/plain": [
       "((2314446, 396), (554362, 396))"
      ]
     },
     "execution_count": 102,
     "metadata": {},
     "output_type": "execute_result"
    }
   ],
   "source": [
    "df_train.shape, df_test.shape"
   ]
  },
  {
   "cell_type": "code",
   "execution_count": 103,
   "metadata": {},
   "outputs": [
    {
     "data": {
      "text/plain": [
       "(0.8067622510812853, 0.19323774891871467)"
      ]
     },
     "execution_count": 103,
     "metadata": {},
     "output_type": "execute_result"
    }
   ],
   "source": [
    "df_train.shape[0]/df_final.shape[0], df_test.shape[0]/df_final.shape[0]"
   ]
  },
  {
   "cell_type": "code",
   "execution_count": null,
   "metadata": {},
   "outputs": [],
   "source": []
  },
  {
   "cell_type": "code",
   "execution_count": 106,
   "metadata": {},
   "outputs": [
    {
     "data": {
      "text/plain": [
       "(2868808, 1480091, 1538)"
      ]
     },
     "execution_count": 106,
     "metadata": {},
     "output_type": "execute_result"
    }
   ],
   "source": [
    "df_final.shape[0], df_final.NCDRPatientID.nunique(), df_final.HospitalID.nunique()"
   ]
  },
  {
   "cell_type": "code",
   "execution_count": 104,
   "metadata": {},
   "outputs": [
    {
     "data": {
      "text/plain": [
       "(2314446, 1226682, 1486)"
      ]
     },
     "execution_count": 104,
     "metadata": {},
     "output_type": "execute_result"
    }
   ],
   "source": [
    "df_train.shape[0], df_train.NCDRPatientID.nunique(), df_train.HospitalID.nunique()"
   ]
  },
  {
   "cell_type": "code",
   "execution_count": 105,
   "metadata": {},
   "outputs": [
    {
     "data": {
      "text/plain": [
       "(554362, 436695, 1488)"
      ]
     },
     "execution_count": 105,
     "metadata": {},
     "output_type": "execute_result"
    }
   ],
   "source": [
    "df_test.shape[0], df_test.NCDRPatientID.nunique(), df_test.HospitalID.nunique()"
   ]
  },
  {
   "cell_type": "code",
   "execution_count": 108,
   "metadata": {},
   "outputs": [],
   "source": [
    "df_reduced_test = df_test[~df_test.NCDRPatientID.isin(df_train.NCDRPatientID.unique())]"
   ]
  },
  {
   "cell_type": "code",
   "execution_count": 109,
   "metadata": {},
   "outputs": [
    {
     "data": {
      "text/plain": [
       "(281071, 253409, 1321)"
      ]
     },
     "execution_count": 109,
     "metadata": {},
     "output_type": "execute_result"
    }
   ],
   "source": [
    "df_reduced_test.shape[0], df_reduced_test.NCDRPatientID.nunique(), df_reduced_test.HospitalID.nunique()"
   ]
  },
  {
   "cell_type": "code",
   "execution_count": null,
   "metadata": {},
   "outputs": [],
   "source": []
  },
  {
   "cell_type": "code",
   "execution_count": 111,
   "metadata": {},
   "outputs": [],
   "source": [
    "df_test[['NCDRPatientID', 'HospitalID', 'ProcedureDate'] + all_vars].to_csv('data/pre_impute_test_jan_26_2021.csv')"
   ]
  },
  {
   "cell_type": "code",
   "execution_count": 112,
   "metadata": {},
   "outputs": [],
   "source": [
    "df_train[['NCDRPatientID', 'HospitalID', 'ProcedureDate'] + all_vars].to_csv('data/pre_impute_train_jan_26_2021.csv')"
   ]
  }
 ],
 "metadata": {
  "kernelspec": {
   "display_name": "Python 3",
   "language": "python",
   "name": "python3"
  },
  "language_info": {
   "codemirror_mode": {
    "name": "ipython",
    "version": 3
   },
   "file_extension": ".py",
   "mimetype": "text/x-python",
   "name": "python",
   "nbconvert_exporter": "python",
   "pygments_lexer": "ipython3",
   "version": "3.7.6"
  }
 },
 "nbformat": 4,
 "nbformat_minor": 4
}
