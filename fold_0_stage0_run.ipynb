{
 "cells": [
  {
   "cell_type": "code",
   "execution_count": 1,
   "metadata": {},
   "outputs": [],
   "source": [
    "%config Completer.use_jedi = False"
   ]
  },
  {
   "cell_type": "code",
   "execution_count": 2,
   "metadata": {},
   "outputs": [],
   "source": [
    "MI_FOLD = 0\n",
    "\n",
    "MI_STAGE = 0\n",
    "\n",
    "GPU_ID = 1 #0, 1, or 2 for balancing resources\n",
    "\n",
    "NAMING_STRING = f'fold_{MI_FOLD}_stage_{MI_STAGE}'"
   ]
  },
  {
   "cell_type": "code",
   "execution_count": 3,
   "metadata": {},
   "outputs": [],
   "source": [
    "import numpy as np\n",
    "import pandas as pd\n",
    "\n",
    "import glob, os\n",
    "\n",
    "import matplotlib\n",
    "matplotlib.use('Agg')\n",
    "import matplotlib.pyplot as plt\n",
    "%matplotlib inline"
   ]
  },
  {
   "cell_type": "code",
   "execution_count": 4,
   "metadata": {},
   "outputs": [],
   "source": [
    "from sklearn.experimental import enable_halving_search_cv\n",
    "\n",
    "from sklearn.model_selection import StratifiedKFold, HalvingGridSearchCV\n",
    "from sklearn.preprocessing import StandardScaler\n",
    "\n",
    "from xgboost import XGBClassifier\n",
    "from sklearn.metrics import roc_auc_score"
   ]
  },
  {
   "cell_type": "code",
   "execution_count": 5,
   "metadata": {},
   "outputs": [
    {
     "name": "stderr",
     "output_type": "stream",
     "text": [
      "/opt/conda/lib/python3.8/site-packages/numpy/lib/arraysetops.py:569: FutureWarning: elementwise comparison failed; returning scalar instead, but in the future will perform elementwise comparison\n",
      "  mask |= (ar1 == a)\n"
     ]
    },
    {
     "name": "stdout",
     "output_type": "stream",
     "text": [
      "CPU times: user 1min 42s, sys: 6.6 s, total: 1min 49s\n",
      "Wall time: 15min\n"
     ]
    }
   ],
   "source": [
    "%%time\n",
    "if MI_STAGE < 2:\n",
    "    MI_STAGE_LETTER = 'A'\n",
    "elif MI_STAGE < 4:\n",
    "    MI_STAGE_LETTER = 'B'\n",
    "elif MI_STAGE < 6:\n",
    "    MI_STAGE_LETTER = 'C'\n",
    "    \n",
    "    \n",
    "df = pd.read_csv(f'../data/train_{MI_STAGE_LETTER}_fold_{MI_FOLD}.csv', index_col=0)\n",
    "test_df = pd.read_csv(f'../data/test_{MI_STAGE_LETTER}_fold_{MI_FOLD}.csv', index_col=0)"
   ]
  },
  {
   "cell_type": "code",
   "execution_count": 10,
   "metadata": {},
   "outputs": [],
   "source": [
    "presentation_vars = [col for col in list(pd.read_csv('../presentation.txt', header=None)[0]) if 'ND' not in col]\n",
    "cath_lab_vars = list(pd.read_csv('../cath_lab.txt', header=None)[0])\n",
    "med_vars = list(pd.read_csv('../meds.txt', header=None)[0])\n",
    "pci_vars = list(pd.read_csv('../pci.txt', header=None)[0])\n",
    "access_vars = [col for col in df.columns if \n",
    "               'femor' in col.lower() or\n",
    "               'radia' in col.lower()]\n",
    "closure_vars = [col for col in df.columns if 'clos' in col.lower()]\n",
    "outcome_var = ['Bleed']\n",
    "\n",
    "all_vars = outcome_var + presentation_vars + access_vars + cath_lab_vars + med_vars + pci_vars + closure_vars"
   ]
  },
  {
   "cell_type": "code",
   "execution_count": 12,
   "metadata": {},
   "outputs": [],
   "source": [
    "if MI_STAGE == 0:\n",
    "    stage = presentation_vars\n",
    "elif MI_STAGE == 1:\n",
    "    stage = presentation_vars + access_vars\n",
    "elif MI_STAGE == 2:\n",
    "    stage = presentation_vars + access_vars + cath_lab_vars\n",
    "elif MI_STAGE == 3:\n",
    "    stage = presentation_vars + access_vars + cath_lab_vars + med_vars\n",
    "elif MI_STAGE == 4:\n",
    "    stage = presentation_vars + access_vars + cath_lab_vars + med_vars + pci_vars\n",
    "elif MI_STAGE == 5:\n",
    "    stage = presentation_vars + access_vars + cath_lab_vars + med_vars + pci_vars + closure_vars"
   ]
  },
  {
   "cell_type": "code",
   "execution_count": 13,
   "metadata": {},
   "outputs": [],
   "source": [
    "def correct_non_continuous(df):\n",
    "    _df = df.copy()\n",
    "    \n",
    "    #These are variables from the initial df that were binary, and have now undergone Imputation.  This imputation\n",
    "    #algorithm only provides floats, so the initial part of this function sets those imputed values to whichever\n",
    "    #is closer, 0 or 1.  It then changes the entire Series to int.\n",
    "    binary_vars = [\n",
    "        'AA_BetaBlockers', 'AA_CaChannel', 'AA_LongActingNitrates', 'AA_OtherAgent', 'AA_Ranolazine', 'AntiAnginalMed',\n",
    "        'CardioLVSD', 'ChronicLungDisease', 'CurrentDialysis', 'Diabetes', 'Dyslipidemia', 'FamilyHxCAD', 'HispOrig',\n",
    "        'Hypertension', 'OnsetTimeEst', 'OnsetTimeNA', 'PreProcCKMBNM', 'Prior2weeksHF', 'PriorCABG', 'PriorCardiacArrest',\n",
    "        'PriorCardioShock', 'PriorCVD', 'PriorHF', 'PriorMI', 'PriorPAD', 'PriorPCI', 'Smoker', 'STEMIFirstNoted',\n",
    "        'ThromTherapy', 'ValveSurgery', 'CardiacTransplant', 'PeriopEval', 'PatientTransPCI', 'DiagCorAngio',\n",
    "        'DissectionSeg', 'LeftHeartCath', 'PerfSeg', 'PreviousStent', 'PrevTreatedLesion', 'Thrombus', 'BifurcationLesion',\n",
    "        'ChronicOcclusion', 'CTO', 'CulpritArtery', 'FFR', 'GuidewireLesion', 'IABP', 'InRestenosis', 'InThrombosis', 'IVUS',\n",
    "        'MVSupport', 'OtherProcedure', 'PCICardioShock',\n",
    "    ]\n",
    "    \n",
    "    for col in binary_vars:\n",
    "        if df[col].notna().all():\n",
    "            #print(col)\n",
    "            temp = (_df[col] >= 0.5)\n",
    "            _df[col] = temp.astype(int)\n",
    "            \n",
    "    #These are ordinal variables from the initial df.  As above, we now set variables to the nearest legal value, then\n",
    "    #change the dtype to int.\n",
    "    ordinal_vars = {\n",
    "        'LesonComplexty':     [1, 2],\n",
    "        'StentType':          [1, 2],\n",
    "        'AnginalClass':       [1, 2, 3, 4, 5],\n",
    "        'CADPresentation':    [1, 2, 3, 4, 5, 6],\n",
    "        'PCIStatus':          [1, 2, 3, 4],\n",
    "        'Prior2weekNYHA':     [1, 2, 3, 4],\n",
    "        'DCathStatus':        [1, 2, 3, 4],\n",
    "        'DCathTreatment':     [1, 2, 3, 4, 5],\n",
    "        'PreProcTIMI':        [1, 2, 3, 4],\n",
    "        'PreTIMI':            [0, 1, 2, 3],\n",
    "        'IABPTiming':         [1, 2, 3],\n",
    "        'LesionGraft':        [0, 1, 2, 3],\n",
    "        'MVSupportTiming':    [1, 2, 3],\n",
    "        'NEWSEQ':             [0, 1, 2, 3],\n",
    "    }\n",
    "    \n",
    "    for col, values in ordinal_vars.items():\n",
    "        if _df[col].notna().all():\n",
    "            #print(col)\n",
    "            #Set anything more extreme than allowed values to most extreme allowed\n",
    "            temp = _df[col].round().astype(int)\n",
    "            temp[temp<values[0]] = values[0]\n",
    "            temp[temp>values[-1]] = values[-1]\n",
    "            _df[col] = temp.astype(int)\n",
    "            \n",
    "    return _df\n",
    "        "
   ]
  },
  {
   "cell_type": "code",
   "execution_count": 14,
   "metadata": {},
   "outputs": [
    {
     "name": "stdout",
     "output_type": "stream",
     "text": [
      "CPU times: user 20.9 s, sys: 14min 33s, total: 14min 54s\n",
      "Wall time: 14min 54s\n"
     ]
    }
   ],
   "source": [
    "%%time\n",
    "df = correct_non_continuous(df)"
   ]
  },
  {
   "cell_type": "code",
   "execution_count": 15,
   "metadata": {},
   "outputs": [
    {
     "name": "stdout",
     "output_type": "stream",
     "text": [
      "CPU times: user 2.54 s, sys: 1.16 s, total: 3.7 s\n",
      "Wall time: 3.96 s\n"
     ]
    }
   ],
   "source": [
    "%%time\n",
    "test_df = correct_non_continuous(test_df)"
   ]
  },
  {
   "cell_type": "code",
   "execution_count": 16,
   "metadata": {},
   "outputs": [
    {
     "name": "stdout",
     "output_type": "stream",
     "text": [
      "CPU times: user 1.71 s, sys: 12 s, total: 13.7 s\n",
      "Wall time: 13.7 s\n"
     ]
    }
   ],
   "source": [
    "%%time\n",
    "X = df[stage]\n",
    "y = df.Bleed\n",
    "\n",
    "X_test = test_df[stage]\n",
    "y_test = test_df.Bleed"
   ]
  },
  {
   "cell_type": "code",
   "execution_count": 17,
   "metadata": {},
   "outputs": [],
   "source": [
    "clf = XGBClassifier(\n",
    "    max_depth=2,\n",
    "    n_estimators=1000,\n",
    "    learning_rate=0.1,\n",
    "    gpu_id=GPU_ID,\n",
    "    tree_method='gpu_hist',\n",
    "    use_label_encoder=False,\n",
    "    eval_metric='logloss',\n",
    "    verbosity=3,\n",
    ")"
   ]
  },
  {
   "cell_type": "raw",
   "metadata": {},
   "source": [
    "skf = StratifiedKFold(\n",
    "    n_splits=5,\n",
    "    shuffle=True,\n",
    "    random_state= (MI_STAGE + (1000*MI_FOLD)), #CV Random shuffling seeded on fold and stage\n",
    ")  \n",
    "\n",
    "param_grid = {\n",
    "    'max_depth': [2, 4,6,8],\n",
    "    'n_estimators': [100, 500, 1000, 5000],\n",
    "    'learning_rate': [0.3, 0.2, 0.15, 0.1],\n",
    "}\n",
    "\n",
    "clf = HalvingGridSearchCV(\n",
    "    estimator=XGBClassifier(\n",
    "        gpu_id=GPU_ID,\n",
    "        tree_method='gpu_hist',\n",
    "        use_label_encoder=False,\n",
    "        eval_metric='logloss'\n",
    "    ),\n",
    "    param_grid=param_grid,\n",
    "    factor=2,\n",
    "    scoring='roc_auc',\n",
    "    n_jobs=2,\n",
    "    cv=skf,\n",
    "    verbose=3,\n",
    "    return_train_score=False,\n",
    ")"
   ]
  },
  {
   "cell_type": "code",
   "execution_count": 18,
   "metadata": {},
   "outputs": [
    {
     "name": "stdout",
     "output_type": "stream",
     "text": [
      "[22:24:46] DEBUG: ../src/tree/updater_gpu_hist.cu:892: [GPU Hist]: Configure\n",
      "[22:24:47] DEBUG: ../src/common/device_helpers.cu:38: Running nccl init on: 10.0\n",
      "[22:24:48] ======== Monitor: SketchContainer ========\n",
      "[22:24:48] MakeCuts: 0.000272s, 1 calls @ 272us\n",
      "\n",
      "[22:24:48] Prune: 0.000175s, 1 calls @ 175us\n",
      "\n",
      "[22:24:48] ScanInput: 0.002496s, 1 calls @ 2496us\n",
      "\n",
      "[22:24:48] Unique: 0.00011s, 1 calls @ 110us\n",
      "\n",
      "[22:25:17] ======== Monitor: Learner ========\n",
      "[22:25:17] Configure: 1e-06s, 1 calls @ 1us\n",
      "\n",
      "[22:25:17] EvalOneIter: 0.008177s, 1000 calls @ 8177us\n",
      "\n",
      "[22:25:17] GetGradient: 0.148197s, 1000 calls @ 148197us\n",
      "\n",
      "[22:25:17] PredictRaw: 1.45752s, 1000 calls @ 1457519us\n",
      "\n",
      "[22:25:17] UpdateOneIter: 28.3327s, 1000 calls @ 28332742us\n",
      "\n",
      "[22:25:17] ======== Monitor: GBTree ========\n",
      "[22:25:17] BoostNewTrees: 28.2362s, 1000 calls @ 28236203us\n",
      "\n",
      "[22:25:17] CommitModel: 1.0088s, 1000 calls @ 1008795us\n",
      "\n",
      "[22:25:17] ======== Device 1 Memory Allocations:  ========\n",
      "[22:25:17] Peak memory usage: 3885MiB\n",
      "[22:25:17] Number of allocations: 19040\n",
      "[22:25:17] ======== Monitor: updater_gpu_hist ========\n",
      "[22:25:17] InitData: 1.03683s, 1000 calls @ 1036826us\n",
      "\n",
      "[22:25:17] InitDataOnce: 1.0358s, 1 calls @ 1035798us\n",
      "\n",
      "[22:25:17] Update: 28.228s, 1000 calls @ 28228001us\n",
      "\n",
      "[22:25:17] UpdatePredictionCache: 1.00598s, 1000 calls @ 1005984us\n",
      "\n",
      "[22:25:17] ======== NCCL Statistics========\n",
      "[22:25:17] AllReduce calls: 2000\n",
      "[22:25:17] AllReduce total MiB communicated: 70\n",
      "[22:25:17] ======== Monitor: gradient_based_sampler ========\n",
      "[22:25:17] Sample: 0.001316s, 1000 calls @ 1316us\n",
      "\n",
      "[22:25:17] ======== Monitor: GPUHistMakerDevice1 ========\n",
      "[22:25:17] AllReduce: 0.005221s, 2000 calls @ 5221us\n",
      "\n",
      "[22:25:17] BuildHist: 0.025909s, 1000 calls @ 25909us\n",
      "\n",
      "[22:25:17] EvaluateSplits: 0.022572s, 1000 calls @ 22572us\n",
      "\n",
      "[22:25:17] FinalisePosition: 0.012602s, 1000 calls @ 12602us\n",
      "\n",
      "[22:25:17] InitRoot: 22.3335s, 1000 calls @ 22333489us\n",
      "\n",
      "[22:25:17] Reset: 0.179161s, 1000 calls @ 179161us\n",
      "\n",
      "[22:25:17] UpdatePosition: 0.535969s, 1000 calls @ 535969us\n",
      "\n",
      "[22:25:17] ======== Monitor: ellpack_page ========\n",
      "[22:25:17] BinningCompression: 0.326355s, 1 calls @ 326355us\n",
      "\n",
      "[22:25:17] InitCompressedData: 0.006302s, 1 calls @ 6302us\n",
      "\n",
      "[22:25:17] Quantiles: 0.654102s, 1 calls @ 654102us\n",
      "\n"
     ]
    }
   ],
   "source": [
    "clf.fit(X,y);"
   ]
  },
  {
   "cell_type": "code",
   "execution_count": 19,
   "metadata": {},
   "outputs": [
    {
     "name": "stdout",
     "output_type": "stream",
     "text": [
      "[22:25:46] DEBUG: ../src/tree/updater_gpu_hist.cu:892: [GPU Hist]: Configure\n",
      "[22:25:46] ======== Device 1 Memory Allocations:  ========\n",
      "[22:25:46] Peak memory usage: 3885MiB\n",
      "[22:25:46] Number of allocations: 19040\n",
      "[22:25:46] ======== Monitor:  ========\n",
      "[22:25:46] ======== NCCL Statistics========\n",
      "[22:25:46] AllReduce calls: 0\n",
      "[22:25:46] AllReduce total MiB communicated: 0\n",
      "CPU times: user 7.48 s, sys: 80 ms, total: 7.56 s\n",
      "Wall time: 1.41 s\n"
     ]
    }
   ],
   "source": [
    "%%time\n",
    "pred_test_proba = clf.predict_proba(X_test)[:,1]"
   ]
  },
  {
   "cell_type": "code",
   "execution_count": 21,
   "metadata": {},
   "outputs": [],
   "source": [
    "clf.save_model(f'models/{NAMING_STRING}_model_weights.json')"
   ]
  },
  {
   "cell_type": "code",
   "execution_count": 22,
   "metadata": {},
   "outputs": [],
   "source": [
    "predicted_df = pd.DataFrame(\n",
    "    data={\n",
    "    f'{NAMING_STRING}_predicted': pred_test_proba,\n",
    "    'actual': y_test,\n",
    "    },\n",
    "    index=y_test.index,\n",
    ")"
   ]
  },
  {
   "cell_type": "code",
   "execution_count": 23,
   "metadata": {},
   "outputs": [],
   "source": [
    "predicted_df.to_csv(f'probs/{NAMING_STRING}_probabilities.csv')"
   ]
  },
  {
   "cell_type": "code",
   "execution_count": 24,
   "metadata": {},
   "outputs": [],
   "source": [
    "test_auroc = roc_auc_score(y_test, pred_test_proba)"
   ]
  },
  {
   "cell_type": "code",
   "execution_count": 28,
   "metadata": {},
   "outputs": [],
   "source": [
    "from sklearn.metrics import average_precision_score"
   ]
  },
  {
   "cell_type": "code",
   "execution_count": 29,
   "metadata": {},
   "outputs": [],
   "source": [
    "def bs_by_hand(actual, pred):\n",
    "    return np.sum(np.power(pred-actual,2))/actual.shape[0]"
   ]
  },
  {
   "cell_type": "code",
   "execution_count": 30,
   "metadata": {},
   "outputs": [],
   "source": [
    "def unc_by_hand(actual, pred):\n",
    "    return np.mean(actual) * (1-np.mean(actual))"
   ]
  },
  {
   "cell_type": "code",
   "execution_count": 31,
   "metadata": {},
   "outputs": [],
   "source": [
    "def res_by_hand(actual, pred, nbins=100):\n",
    "    p = np.array(pred)\n",
    "    a = np.array(actual)\n",
    "    n = pred.shape[0]\n",
    "    \n",
    "    p_breaks = np.linspace(0,1,nbins+1)\n",
    "    base_rate = a.mean()\n",
    "    \n",
    "    res = 0\n",
    "    \n",
    "    for i in range(nbins):\n",
    "        mask = (p > p_breaks[i]) & (p < p_breaks[i+1])\n",
    "        bin_size = mask.sum()\n",
    "        if bin_size==0:\n",
    "            continue\n",
    "        bin_rate = a[mask].mean()\n",
    "        res += bin_size * np.power(bin_rate-base_rate, 2)\n",
    "    return res/n"
   ]
  },
  {
   "cell_type": "code",
   "execution_count": 32,
   "metadata": {},
   "outputs": [],
   "source": [
    "def rel_by_hand(actual, pred, nbins=100):\n",
    "    p = np.array(pred)\n",
    "    a = np.array(actual)\n",
    "    n = pred.shape[0]\n",
    "    \n",
    "    p_breaks = np.linspace(0,1,nbins+1)\n",
    "    #base_rate = a.mean()\n",
    "    \n",
    "    rel = 0\n",
    "    \n",
    "    for i in range(nbins):\n",
    "        mask = (p > p_breaks[i]) & (p < p_breaks[i+1])\n",
    "        bin_size = mask.sum()\n",
    "        if bin_size==0:\n",
    "            continue\n",
    "        bin_forcast = p[mask].mean()\n",
    "        bin_rate = a[mask].mean()\n",
    "        rel += bin_size * np.power(bin_forcast-bin_rate, 2)\n",
    "    return rel/n"
   ]
  },
  {
   "cell_type": "code",
   "execution_count": 33,
   "metadata": {},
   "outputs": [],
   "source": [
    "def naive_bss(actual, pred):\n",
    "    bs_ref = np.sum(np.power(np.mean(actual)-actual,2))/actual.shape[0]\n",
    "    return 1 - bs_by_hand(actual, pred)/bs_ref"
   ]
  },
  {
   "cell_type": "code",
   "execution_count": null,
   "metadata": {},
   "outputs": [],
   "source": []
  },
  {
   "cell_type": "code",
   "execution_count": null,
   "metadata": {},
   "outputs": [],
   "source": []
  },
  {
   "cell_type": "code",
   "execution_count": null,
   "metadata": {},
   "outputs": [],
   "source": []
  },
  {
   "cell_type": "code",
   "execution_count": 25,
   "metadata": {},
   "outputs": [
    {
     "data": {
      "text/plain": [
       "0.8118521016279407"
      ]
     },
     "execution_count": 25,
     "metadata": {},
     "output_type": "execute_result"
    }
   ],
   "source": [
    "test_auroc"
   ]
  },
  {
   "cell_type": "code",
   "execution_count": 34,
   "metadata": {},
   "outputs": [],
   "source": [
    "meta_dat = pd.DataFrame(\n",
    "    index=[10*MI_FOLD + MI_STAGE]\n",
    ")\n",
    "meta_dat['stage'] = MI_STAGE\n",
    "meta_dat['fold'] = MI_FOLD\n",
    "\n",
    "meta_dat['auroc'] = test_auroc\n",
    "meta_dat['auprc']     = average_precision_score(y_test, pred_test_proba)\n",
    "meta_dat['unc']       = unc_by_hand(y_test, pred_test_proba)\n",
    "meta_dat['res']       = res_by_hand(y_test, pred_test_proba)\n",
    "meta_dat['rel']       = rel_by_hand(y_test, pred_test_proba)\n",
    "meta_dat['bs']        = bs_by_hand(y_test, pred_test_proba)\n",
    "meta_dat['naive_bss'] = naive_bss(y_test, pred_test_proba)"
   ]
  },
  {
   "cell_type": "code",
   "execution_count": 35,
   "metadata": {},
   "outputs": [
    {
     "data": {
      "text/html": [
       "<div>\n",
       "<style scoped>\n",
       "    .dataframe tbody tr th:only-of-type {\n",
       "        vertical-align: middle;\n",
       "    }\n",
       "\n",
       "    .dataframe tbody tr th {\n",
       "        vertical-align: top;\n",
       "    }\n",
       "\n",
       "    .dataframe thead th {\n",
       "        text-align: right;\n",
       "    }\n",
       "</style>\n",
       "<table border=\"1\" class=\"dataframe\">\n",
       "  <thead>\n",
       "    <tr style=\"text-align: right;\">\n",
       "      <th></th>\n",
       "      <th>stage</th>\n",
       "      <th>fold</th>\n",
       "      <th>auroc</th>\n",
       "      <th>auprc</th>\n",
       "      <th>unc</th>\n",
       "      <th>res</th>\n",
       "      <th>rel</th>\n",
       "      <th>bs</th>\n",
       "      <th>naive_bss</th>\n",
       "    </tr>\n",
       "  </thead>\n",
       "  <tbody>\n",
       "    <tr>\n",
       "      <th>0</th>\n",
       "      <td>0</td>\n",
       "      <td>0</td>\n",
       "      <td>0.811852</td>\n",
       "      <td>0.203046</td>\n",
       "      <td>0.035044</td>\n",
       "      <td>0.003336</td>\n",
       "      <td>0.000258</td>\n",
       "      <td>0.031961</td>\n",
       "      <td>0.087969</td>\n",
       "    </tr>\n",
       "  </tbody>\n",
       "</table>\n",
       "</div>"
      ],
      "text/plain": [
       "   stage  fold     auroc     auprc       unc       res       rel        bs  \\\n",
       "0      0     0  0.811852  0.203046  0.035044  0.003336  0.000258  0.031961   \n",
       "\n",
       "   naive_bss  \n",
       "0   0.087969  "
      ]
     },
     "execution_count": 35,
     "metadata": {},
     "output_type": "execute_result"
    }
   ],
   "source": [
    "meta_dat"
   ]
  },
  {
   "cell_type": "code",
   "execution_count": 36,
   "metadata": {},
   "outputs": [],
   "source": [
    "meta_dat.to_csv(f'results/{NAMING_STRING}_results.csv')"
   ]
  },
  {
   "cell_type": "code",
   "execution_count": null,
   "metadata": {},
   "outputs": [],
   "source": []
  }
 ],
 "metadata": {
  "kernelspec": {
   "display_name": "Python 3",
   "language": "python",
   "name": "python3"
  },
  "language_info": {
   "codemirror_mode": {
    "name": "ipython",
    "version": 3
   },
   "file_extension": ".py",
   "mimetype": "text/x-python",
   "name": "python",
   "nbconvert_exporter": "python",
   "pygments_lexer": "ipython3",
   "version": "3.7.6"
  }
 },
 "nbformat": 4,
 "nbformat_minor": 5
}
